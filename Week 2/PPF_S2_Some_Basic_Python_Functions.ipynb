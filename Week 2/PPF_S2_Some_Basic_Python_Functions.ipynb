{
 "cells": [
  {
   "cell_type": "markdown",
   "metadata": {},
   "source": [
    "# Python Programming Forum\n",
    "## Session 2.5: Some Basic Python Functions"
   ]
  },
  {
   "cell_type": "markdown",
   "metadata": {},
   "source": [
    "#### Functions\n",
    "We will be working on few of the following examples.\n",
    "1) Leap Year  \n",
    "2) Armstrong Number  \n",
    "3) Narcissistic Number  \n",
    "4) Zipper  \n",
    "5) Distance Formula  \n",
    "6) Star Patterns  \n",
    "7) And Examples from students"
   ]
  },
  {
   "cell_type": "markdown",
   "metadata": {},
   "source": [
    "### Leap Year"
   ]
  },
  {
   "cell_type": "code",
   "execution_count": 4,
   "metadata": {},
   "outputs": [],
   "source": [
    "def Leap_Year_Check(year):\n",
    "    if year%4 == 0:\n",
    "        if year%100 == 0:\n",
    "            if year%400 == 0:\n",
    "                print('This is a Leap Year')\n",
    "            else:\n",
    "                print('This is Not a Leap Year')\n",
    "        else:\n",
    "            print('This is a Leap Year')\n",
    "    else:\n",
    "        print('This is Not a Leap Year')"
   ]
  },
  {
   "cell_type": "code",
   "execution_count": 8,
   "metadata": {},
   "outputs": [
    {
     "name": "stdout",
     "output_type": "stream",
     "text": [
      "This is a Leap Year\n"
     ]
    }
   ],
   "source": [
    "Leap_Year_Check(2016)"
   ]
  },
  {
   "cell_type": "markdown",
   "metadata": {},
   "source": [
    "### Armstrong Number"
   ]
  },
  {
   "cell_type": "code",
   "execution_count": 37,
   "metadata": {},
   "outputs": [],
   "source": [
    "def Armstrong_Check(Num):\n",
    "    Check = Num\n",
    "    dig1 = Num%10\n",
    "    Num//=10\n",
    "    dig2 = Num%10\n",
    "    Num//=10\n",
    "    dig3 = Num % 10\n",
    "    C1 = dig1**3\n",
    "    C2=dig2**3\n",
    "    C3 = dig3**3\n",
    "    Sum = C1 + C2 + C3\n",
    "    if Check == Sum:\n",
    "        print('This is an Armstrongs Number')\n",
    "    else:\n",
    "        print('Not an armstrong number')\n",
    "\n",
    "def Armstrong_Check_2(Num):\n",
    "    temporary = str(Num)\n",
    "    temporary = [x for x in temporary]\n",
    "    Sum = 0\n",
    "    for i in range(len(temporary)):\n",
    "        Sum = Sum + int(temporary[i])**3\n",
    "    if Sum == Num:\n",
    "        return True\n",
    "    else:\n",
    "        return False"
   ]
  },
  {
   "cell_type": "code",
   "execution_count": 29,
   "metadata": {},
   "outputs": [
    {
     "name": "stdout",
     "output_type": "stream",
     "text": [
      "This is an Armstrongs Number\n",
      "Not an Armstrong Number\n"
     ]
    }
   ],
   "source": [
    "Armstrong_Check(153)\n",
    "Armstrong_Check_2(171)"
   ]
  },
  {
   "cell_type": "markdown",
   "metadata": {},
   "source": [
    "### Narcissistic Number"
   ]
  },
  {
   "cell_type": "code",
   "execution_count": 40,
   "metadata": {},
   "outputs": [],
   "source": [
    "def Narcissistic_Check(Num):\n",
    "    temporary = str(Num)\n",
    "    temporary = [x for x in temporary]\n",
    "    Sum = 0\n",
    "    for i in range(len(temporary)):\n",
    "        Sum = Sum + int(temporary[i])**len(temporary)\n",
    "    if Sum == Num:\n",
    "        return True\n",
    "    else:\n",
    "        return False"
   ]
  },
  {
   "cell_type": "code",
   "execution_count": 33,
   "metadata": {},
   "outputs": [
    {
     "name": "stdout",
     "output_type": "stream",
     "text": [
      "Not an Narcissistic Number\n"
     ]
    }
   ],
   "source": [
    "Narcissistic_Check(4219)"
   ]
  },
  {
   "cell_type": "markdown",
   "metadata": {},
   "source": [
    "#### To check Armstrong/Narcissistic number from 100 to 100000"
   ]
  },
  {
   "cell_type": "code",
   "execution_count": 42,
   "metadata": {},
   "outputs": [
    {
     "name": "stdout",
     "output_type": "stream",
     "text": [
      "153\n",
      "370\n",
      "371\n",
      "407\n",
      "1634\n",
      "8208\n",
      "9474\n",
      "54748\n",
      "92727\n",
      "93084\n"
     ]
    }
   ],
   "source": [
    "for i in range(100, 100000):\n",
    "    if Narcissistic_Check(i):\n",
    "        print(i)"
   ]
  },
  {
   "cell_type": "markdown",
   "metadata": {},
   "source": [
    "### Zipper"
   ]
  },
  {
   "cell_type": "code",
   "execution_count": 47,
   "metadata": {},
   "outputs": [
    {
     "name": "stdout",
     "output_type": "stream",
     "text": [
      "[(1, 'one'), (2, 'two'), (3, 'three')]\n"
     ]
    }
   ],
   "source": [
    "print(list(zip((1, 2, 3, 4), (\"one\", \"two\", \"three\"))))"
   ]
  },
  {
   "cell_type": "markdown",
   "metadata": {},
   "source": [
    "Try making a similar one yourself."
   ]
  },
  {
   "cell_type": "markdown",
   "metadata": {},
   "source": [
    "### Distance Formula"
   ]
  },
  {
   "cell_type": "code",
   "execution_count": 48,
   "metadata": {},
   "outputs": [],
   "source": [
    "import numpy"
   ]
  },
  {
   "cell_type": "code",
   "execution_count": 56,
   "metadata": {},
   "outputs": [],
   "source": [
    "def Distance(a, b):    # a = (1, 2) b = (4, 2)\n",
    "    Xa = a[0]\n",
    "    Xb = b[0]\n",
    "    Ya, Yb = a[1], b[1]\n",
    "    XD = Xa - Xb\n",
    "    YD = Ya - Yb\n",
    "    Sum = (XD**2) + YD**2\n",
    "#     distance = Sum**0.5\n",
    "    distance = numpy.sqrt(Sum)\n",
    "    return distance\n",
    "\n",
    "def Distance2(a, b):\n",
    "    return numpy.sqrt((a[0]-b[0])**2+(a[1]-b[1])**2)"
   ]
  },
  {
   "cell_type": "code",
   "execution_count": 57,
   "metadata": {},
   "outputs": [
    {
     "name": "stdout",
     "output_type": "stream",
     "text": [
      "2.0\n",
      "2.0\n"
     ]
    }
   ],
   "source": [
    "a = (1, 2)\n",
    "b = (1, 4)\n",
    "print(Distance(a, b))\n",
    "print(Distance2(a, b))"
   ]
  },
  {
   "cell_type": "markdown",
   "metadata": {},
   "source": [
    "### Star Patterns"
   ]
  },
  {
   "cell_type": "code",
   "execution_count": 76,
   "metadata": {},
   "outputs": [],
   "source": [
    "def p1(n):\n",
    "    for i in range(1, n+1):\n",
    "        print('*'*i)"
   ]
  },
  {
   "cell_type": "code",
   "execution_count": 66,
   "metadata": {},
   "outputs": [],
   "source": [
    "def p1_2():\n",
    "    for i in range(1, 6):\n",
    "        for j in range(i):\n",
    "            print('*', end='')\n",
    "        print()"
   ]
  },
  {
   "cell_type": "code",
   "execution_count": 67,
   "metadata": {},
   "outputs": [
    {
     "name": "stdout",
     "output_type": "stream",
     "text": [
      "*\n",
      "**\n",
      "***\n",
      "****\n",
      "*****\n",
      "*\n",
      "**\n",
      "***\n",
      "****\n",
      "*****\n"
     ]
    }
   ],
   "source": [
    "p1()\n",
    "p1_2()"
   ]
  },
  {
   "cell_type": "code",
   "execution_count": 77,
   "metadata": {},
   "outputs": [],
   "source": [
    "def p2(n):\n",
    "#     for i in range(n, 0, -1):\n",
    "#         print('*'*i)\n",
    "    for i in range(1, n+1):\n",
    "        print('*'*(6-i))"
   ]
  },
  {
   "cell_type": "code",
   "execution_count": 73,
   "metadata": {},
   "outputs": [],
   "source": [
    "def p2_2():\n",
    "    for i in range(1, 6):\n",
    "        for j in range(6-i):\n",
    "            print('*', end='')\n",
    "        print()"
   ]
  },
  {
   "cell_type": "code",
   "execution_count": 74,
   "metadata": {},
   "outputs": [
    {
     "name": "stdout",
     "output_type": "stream",
     "text": [
      "*****\n",
      "****\n",
      "***\n",
      "**\n",
      "*\n",
      "*****\n",
      "****\n",
      "***\n",
      "**\n",
      "*\n"
     ]
    }
   ],
   "source": [
    "p2()\n",
    "p2_2()"
   ]
  },
  {
   "cell_type": "code",
   "execution_count": 80,
   "metadata": {},
   "outputs": [
    {
     "name": "stdout",
     "output_type": "stream",
     "text": [
      "*\n",
      "**\n",
      "***\n",
      "****\n",
      "*****\n",
      "****\n",
      "***\n",
      "**\n",
      "*\n"
     ]
    }
   ],
   "source": [
    "p1(4)\n",
    "p2(5)"
   ]
  },
  {
   "cell_type": "markdown",
   "metadata": {},
   "source": [
    "### Factorial"
   ]
  },
  {
   "cell_type": "code",
   "execution_count": 90,
   "metadata": {},
   "outputs": [],
   "source": [
    "def factorial(n):     # 4\n",
    "    if n == 1 or n == 0:\n",
    "        return 1\n",
    "    return n*factorial(n-1)\n",
    "\n",
    "def factorial_2(n):\n",
    "    fact = 1\n",
    "    for i in range(1, n+1):\n",
    "        fact *= i\n",
    "    return fact"
   ]
  },
  {
   "cell_type": "code",
   "execution_count": 92,
   "metadata": {},
   "outputs": [
    {
     "data": {
      "text/plain": [
       "479001600"
      ]
     },
     "execution_count": 92,
     "metadata": {},
     "output_type": "execute_result"
    }
   ],
   "source": [
    "factorial(12)"
   ]
  },
  {
   "cell_type": "code",
   "execution_count": 93,
   "metadata": {},
   "outputs": [
    {
     "data": {
      "text/plain": [
       "479001600"
      ]
     },
     "execution_count": 93,
     "metadata": {},
     "output_type": "execute_result"
    }
   ],
   "source": [
    "factorial_2(12)"
   ]
  },
  {
   "cell_type": "markdown",
   "metadata": {},
   "source": [
    "***Note:*** To explore more functions of python like these, visit [programiz](https://www.programiz.com/python-programming/examples)"
   ]
  }
 ],
 "metadata": {
  "kernelspec": {
   "display_name": "Python 3",
   "language": "python",
   "name": "python3"
  },
  "language_info": {
   "codemirror_mode": {
    "name": "ipython",
    "version": 3
   },
   "file_extension": ".py",
   "mimetype": "text/x-python",
   "name": "python",
   "nbconvert_exporter": "python",
   "pygments_lexer": "ipython3",
   "version": "3.9.0"
  }
 },
 "nbformat": 4,
 "nbformat_minor": 4
}
