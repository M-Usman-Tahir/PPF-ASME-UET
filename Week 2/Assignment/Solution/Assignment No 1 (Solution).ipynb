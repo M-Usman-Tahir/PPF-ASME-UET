{
 "cells": [
  {
   "cell_type": "markdown",
   "metadata": {},
   "source": [
    "# Python Programming Forum\n",
    "## Assignment No 1"
   ]
  },
  {
   "cell_type": "markdown",
   "metadata": {},
   "source": [
    "*Note: The Dificulty will increase with the number of Questions*\n",
    "#### Question 1:\n",
    "Make a function to add 2 numbers. Input should be taken from User"
   ]
  },
  {
   "cell_type": "code",
   "execution_count": 1,
   "metadata": {},
   "outputs": [],
   "source": [
    "def ADD(a, b):\n",
    "    return a+b"
   ]
  },
  {
   "cell_type": "code",
   "execution_count": 2,
   "metadata": {},
   "outputs": [
    {
     "name": "stdout",
     "output_type": "stream",
     "text": [
      "Enter a number: 13\n",
      "Enter another number: 14.5\n",
      "27.5\n"
     ]
    }
   ],
   "source": [
    "x = float(input(\"Enter a number: \"))\n",
    "y = float(input(\"Enter another number: \"))\n",
    "print(ADD(x, y))"
   ]
  },
  {
   "cell_type": "markdown",
   "metadata": {},
   "source": [
    "#### Question 2:\n",
    "Write code to sort a list without any built-in function. Elements should be taken from user for extra credits."
   ]
  },
  {
   "cell_type": "code",
   "execution_count": 3,
   "metadata": {},
   "outputs": [],
   "source": [
    "def SortList(List):\n",
    "    for i in range(1,len(List)):\n",
    "            current = List[i]\n",
    "            j = i-1\n",
    "            while j >= 0 and List[j] > current:\n",
    "                List[j+1] = List[j]\n",
    "                j -= 1\n",
    "            List[j+1] = current\n",
    "            \n",
    "def SortList2(List):                   # If you dont want to change the original list\n",
    "    List2 = List[:]\n",
    "    for i in range(1,len(List2)):\n",
    "            current = List2[i]\n",
    "            j = i-1\n",
    "            while j >= 0 and List2[j] > current:\n",
    "                List2[j+1] = List2[j]\n",
    "                j -= 1\n",
    "            List2[j+1] = current\n",
    "    return List2"
   ]
  },
  {
   "cell_type": "code",
   "execution_count": 4,
   "metadata": {},
   "outputs": [
    {
     "name": "stdout",
     "output_type": "stream",
     "text": [
      "Length of input is: 9\n",
      "Enter num: 2\n",
      "Enter num: 8\n",
      "Enter num: 4\n",
      "Enter num: 3\n",
      "Enter num: 7\n",
      "Enter num: 1\n",
      "Enter num: 5\n",
      "Enter num: 6\n",
      "Enter num: 0\n",
      "[0, 1, 2, 3, 4, 5, 6, 7, 8]\n",
      "[0, 1, 2, 3, 4, 5, 6, 7, 8]\n"
     ]
    }
   ],
   "source": [
    "List = []\n",
    "for i in range(int(input('Length of input is: '))):\n",
    "    List.append(int(input('Enter num: ')))\n",
    "\n",
    "print(SortList2(List))\n",
    "\n",
    "SortList(List)\n",
    "print(List)"
   ]
  },
  {
   "cell_type": "markdown",
   "metadata": {},
   "source": [
    "#### Question 3:\n",
    "Write a function zipper as same functionality of zip()"
   ]
  },
  {
   "cell_type": "code",
   "execution_count": 5,
   "metadata": {},
   "outputs": [],
   "source": [
    "def zipper(A, B):                      # Function for two arguments\n",
    "    Min_Len = min(len(A), len(B))\n",
    "    rtnList = []\n",
    "    for i in range(Min_Len):\n",
    "        rtnList.append((A[i], B[i]))\n",
    "    return rtnList\n",
    "\n",
    "def Zipper(*args):                     # Function for arbitrary arguments\n",
    "    numOfArgs = len(args)\n",
    "    minLength = min([len(x) for x in args])\n",
    "    rtnList = []\n",
    "    for i in range(minLength):\n",
    "        tempList = []\n",
    "        for j in range(numOfArgs):\n",
    "            tempList.append(args[j][i])\n",
    "        rtnList.append(tuple(tempList))\n",
    "    return rtnList"
   ]
  },
  {
   "cell_type": "code",
   "execution_count": 6,
   "metadata": {},
   "outputs": [
    {
     "name": "stdout",
     "output_type": "stream",
     "text": [
      "[(1, 3), (2, 4)]\n",
      "[(1, 3), (2, 4)]\n",
      "[('Alpha', 1)]\n",
      "[('Alpha', 1)]\n",
      "[(1, 'Alpha'), (2, 'Beta')]\n",
      "[(1, 'Alpha'), (2, 'Beta')]\n",
      "[(3, 1)]\n",
      "[(3, 1)]\n",
      "[(1, 3, 'Alpha', True), (2, 4, 'Beta', False)]\n",
      "[(1, 3, 'Alpha', True), (2, 4, 'Beta', False)]\n"
     ]
    }
   ],
   "source": [
    "a,b,c,d,e = [1,2], (3, 4, 5, 6), ['Alpha', 'Beta', 'Gamma'], (1,), (True, False)\n",
    "print(zipper(a, b))\n",
    "print(list(zip(a, b)))\n",
    "print(zipper(c, d))\n",
    "print(list(zip(c, d)))\n",
    "print(zipper(a, c))\n",
    "print(list(zip(a, c)))\n",
    "print(zipper(b, d))\n",
    "print(list(zip(b, d)))\n",
    "\n",
    "print(list(zip(a, b, c, e)))\n",
    "print(Zipper(a, b, c, e))"
   ]
  },
  {
   "cell_type": "markdown",
   "metadata": {},
   "source": [
    "#### Question 4:\n",
    "Write a code to find prime factors of a number **n**. "
   ]
  },
  {
   "cell_type": "code",
   "execution_count": 7,
   "metadata": {},
   "outputs": [],
   "source": [
    "def primeUpto(n):                         # to find prime nuber upto n\n",
    "    if n < 2:\n",
    "        print('Enter a Valid Nuumber')\n",
    "        return\n",
    "    prime = [2]\n",
    "    start = 2\n",
    "    for i in range(3, n+1):\n",
    "        for j in range(2, i):\n",
    "            if i%j==0:\n",
    "                break\n",
    "        if j==i-1:\n",
    "            prime.append(i)\n",
    "    return prime\n",
    "\n",
    "def primeFactors(n):                     # to find prime factors of n\n",
    "    possibleFactors = primeUpto(n)\n",
    "    realFactors = []\n",
    "    while n!=1:\n",
    "        for prime in possibleFactors:\n",
    "            if n%prime==0:\n",
    "                realFactors.append(prime)\n",
    "                n//=prime\n",
    "                break\n",
    "    return realFactors"
   ]
  },
  {
   "cell_type": "code",
   "execution_count": 8,
   "metadata": {},
   "outputs": [
    {
     "data": {
      "text/plain": [
       "[2, 2, 5, 5]"
      ]
     },
     "execution_count": 8,
     "metadata": {},
     "output_type": "execute_result"
    }
   ],
   "source": [
    "primeFactors(100)"
   ]
  },
  {
   "cell_type": "markdown",
   "metadata": {},
   "source": [
    "#### Question 5:\n",
    "Write a function to find whether the average of all odd numbers in a list is even, odd or fractional"
   ]
  },
  {
   "cell_type": "code",
   "execution_count": 9,
   "metadata": {},
   "outputs": [],
   "source": [
    "def Average(List):\n",
    "    oddList = []\n",
    "    for num in List:\n",
    "        if num%2!=0:\n",
    "            oddList.append(num)\n",
    "    average = sum(oddList)/len(oddList)\n",
    "    if average==int(average):\n",
    "        if average%2==0:\n",
    "            print('The average of the list is even i.e.', int(average))\n",
    "        else:\n",
    "            print('The average of the list is odd i.e.', int(average))\n",
    "    else:\n",
    "        print('The average of the list is fractional i.e.', average)"
   ]
  },
  {
   "cell_type": "code",
   "execution_count": 10,
   "metadata": {},
   "outputs": [
    {
     "name": "stdout",
     "output_type": "stream",
     "text": [
      "The average of the list is even i.e. 2\n",
      "The average of the list is odd i.e. 3\n",
      "The average of the list is fractional i.e. 1.6666666666666667\n"
     ]
    }
   ],
   "source": [
    "Average([1, 2, 3])\n",
    "Average([1, 5, 3])\n",
    "Average([1, 1, 3])"
   ]
  },
  {
   "cell_type": "markdown",
   "metadata": {},
   "source": [
    "#### Question 6:\n",
    "Write a function to sort all the words in a list in complete alphabatical order"
   ]
  },
  {
   "cell_type": "code",
   "execution_count": 11,
   "metadata": {},
   "outputs": [],
   "source": [
    "import string"
   ]
  },
  {
   "cell_type": "code",
   "execution_count": 12,
   "metadata": {},
   "outputs": [
    {
     "name": "stdout",
     "output_type": "stream",
     "text": [
      "abcdefghijklmnopqrstuvwxyz\n",
      "ABCDEFGHIJKLMNOPQRSTUVWXYZ\n",
      "abcdefghijklmnopqrstuvwxyzABCDEFGHIJKLMNOPQRSTUVWXYZ\n"
     ]
    }
   ],
   "source": [
    "print(string.ascii_lowercase)\n",
    "print(string.ascii_uppercase)\n",
    "print(string.ascii_letters)"
   ]
  },
  {
   "cell_type": "code",
   "execution_count": 13,
   "metadata": {},
   "outputs": [],
   "source": [
    "def SortWords(List, AlphaIndex=0):\n",
    "    SortedList = []\n",
    "    for alpha in string.ascii_lowercase:\n",
    "        AlphaList = []\n",
    "        for word in List:\n",
    "            if alpha == word[AlphaIndex].lower():\n",
    "                AlphaList.append(word)\n",
    "        if len(AlphaList)!=0:\n",
    "            SortedList.append(AlphaList)\n",
    "    for i in range(len(SortedList)):\n",
    "        if len(SortedList[i])!=1:\n",
    "            SortedList[i] =  SortWords(SortedList[i], AlphaIndex+1)\n",
    "    rtnSorted = []\n",
    "    for i in range(len(SortedList)):\n",
    "        rtnSorted += SortedList[i] \n",
    "    return rtnSorted\n",
    "\n",
    "def SortWords2(List):                      # If List is used in this function in place of rtnList\n",
    "    rtnList = List[:]                      # the function will behave as same as SortWords4(List)\n",
    "    for i in range(len(rtnList)):\n",
    "        for j in range(len(rtnList)):\n",
    "            if rtnList[j]>rtnList[i]:\n",
    "                temp = rtnList[i]\n",
    "                rtnList[i] = rtnList[j]\n",
    "                rtnList[j] = temp\n",
    "    return rtnList\n",
    "    \n",
    "\n",
    "def SortWords3(List):\n",
    "    return sorted(List)\n",
    "\n",
    "def SortWords4(List):\n",
    "    List.sort()"
   ]
  },
  {
   "cell_type": "code",
   "execution_count": 14,
   "metadata": {},
   "outputs": [
    {
     "name": "stdout",
     "output_type": "stream",
     "text": [
      "['Aazam', 'Alpha', 'Arab', 'Azan', 'Azhar', 'Beta', 'Charlie']\n",
      "['Aazam', 'Alpha', 'Arab', 'Azan', 'Azhar', 'Beta', 'Charlie']\n",
      "['Aazam', 'Alpha', 'Arab', 'Azan', 'Azhar', 'Beta', 'Charlie']\n",
      "['Aazam', 'Alpha', 'Arab', 'Azan', 'Azhar', 'Beta', 'Charlie']\n"
     ]
    }
   ],
   "source": [
    "List = ['Arab', 'Beta', 'Alpha', 'Azhar','Aazam' , 'Charlie', 'Azan']\n",
    "print(SortWords(List))\n",
    "print(SortWords2(List))\n",
    "print(SortWords3(List))\n",
    "\n",
    "SortWords4(List)\n",
    "print(List)"
   ]
  },
  {
   "cell_type": "markdown",
   "metadata": {},
   "source": [
    "#### Question 7:\n",
    "Write a code to make a star pattern of the following shape  \n"
   ]
  },
  {
   "cell_type": "code",
   "execution_count": 15,
   "metadata": {},
   "outputs": [],
   "source": [
    "#      *\n",
    "#     ***\n",
    "#    *****\n",
    "#   *******\n",
    "#  *********\n",
    "#   *******\n",
    "#    *****\n",
    "#     ***\n",
    "#      *"
   ]
  },
  {
   "cell_type": "code",
   "execution_count": 16,
   "metadata": {},
   "outputs": [
    {
     "name": "stdout",
     "output_type": "stream",
     "text": [
      "      \n",
      "     *\n",
      "    ***\n",
      "   *****\n",
      "  *******\n",
      " *********\n",
      "  *******\n",
      "   *****\n",
      "    ***\n",
      "     *\n"
     ]
    }
   ],
   "source": [
    "def p(a):\n",
    "    for i in range(a):\n",
    "        print(' '*(a-i+1)+'*'*(2*i-1))\n",
    "    for i in range(a):\n",
    "        print(' '*(i+1)+'*'*(2*a-2*i-1))\n",
    "\n",
    "p(5)   # Also try p(50)"
   ]
  },
  {
   "cell_type": "markdown",
   "metadata": {},
   "source": [
    "#### Question 8:\n",
    "Write a code to remove punctuations from a paragraph-like string."
   ]
  },
  {
   "cell_type": "code",
   "execution_count": 17,
   "metadata": {},
   "outputs": [],
   "source": [
    "def RemPunctutaion(para):\n",
    "    alphas = string.ascii_lowercase+ string.digits +' \\n'\n",
    "    rtnPara = ''\n",
    "    for char in para.lower():\n",
    "        if char in alphas:\n",
    "            rtnPara+=char\n",
    "    return rtnPara\n",
    "# OR \n",
    "def RemPunctutaion2(para):\n",
    "    punc = string.punctuation    # !\"#$%&\\'()*+,-./:;<=>?@[\\\\]^_`{|}~\n",
    "    rtnPara = ''\n",
    "    for char in para.lower():\n",
    "        if not char in punc:\n",
    "            rtnPara+=char.lower()\n",
    "    return rtnPara"
   ]
  },
  {
   "cell_type": "code",
   "execution_count": 18,
   "metadata": {},
   "outputs": [
    {
     "name": "stdout",
     "output_type": "stream",
     "text": [
      "put any paragraph here it will erase all the punctutaion and make every letter small\n",
      "you may change the code in a way to let the upper case in the para\n",
      "but not by adding the alphas but by checking every char in if statement by lower function\n",
      "it wont remove numbers 123\n",
      "\n",
      "put any paragraph here it will erase all the punctutaion and make every letter small\n",
      "you may change the code in a way to let the upper case in the para\n",
      "but not by adding the alphas but by checking every char in if statement by lower function\n",
      "it wont remove numbers 123\n"
     ]
    }
   ],
   "source": [
    "p= '''Put any paragraph here, it will erase all the punctutaion and make every letter small.\n",
    "You may change the code in a way to let the upper case in the para.\n",
    "But not by adding the alphas but by checking every char in if statement by lower() function.\n",
    "It won't remove numbers #123'''\n",
    "print(RemPunctutaion(p))\n",
    "print()\n",
    "print(RemPunctutaion2(p))"
   ]
  },
  {
   "cell_type": "markdown",
   "metadata": {},
   "source": [
    "#### Question 9:\n",
    "Convert a decimal to binary by any method."
   ]
  },
  {
   "cell_type": "code",
   "execution_count": 19,
   "metadata": {},
   "outputs": [],
   "source": [
    "def DecToBinary(Dec):\n",
    "    binary = []\n",
    "    while Dec!=0:\n",
    "        R = Dec%2\n",
    "        Dec//=2\n",
    "        binary.insert(0, str(R))\n",
    "    return int(''.join(binary))"
   ]
  },
  {
   "cell_type": "code",
   "execution_count": 20,
   "metadata": {},
   "outputs": [
    {
     "name": "stdout",
     "output_type": "stream",
     "text": [
      "101\n",
      "1010\n"
     ]
    }
   ],
   "source": [
    "print(DecToBinary(5))\n",
    "print(DecToBinary(10))"
   ]
  },
  {
   "cell_type": "markdown",
   "metadata": {},
   "source": [
    "#### Question 10:\n",
    "From Question 9 check if the output is a palindrome or not"
   ]
  },
  {
   "cell_type": "code",
   "execution_count": 21,
   "metadata": {},
   "outputs": [],
   "source": [
    "def palindrome(s):\n",
    "    s = str(s)\n",
    "    if len(s)<=1:\n",
    "        return True\n",
    "    elif s[0] != s[-1]:\n",
    "        return False\n",
    "    return palindrome(s[1:-1])"
   ]
  },
  {
   "cell_type": "code",
   "execution_count": 22,
   "metadata": {},
   "outputs": [
    {
     "name": "stdout",
     "output_type": "stream",
     "text": [
      "True\n",
      "False\n"
     ]
    }
   ],
   "source": [
    "print(palindrome(DecToBinary(5)))\n",
    "print(palindrome(DecToBinary(10)))"
   ]
  },
  {
   "cell_type": "markdown",
   "metadata": {},
   "source": [
    "For help you may take help from google but dont plagerize, Its for your own learning.  \n",
    "Try Attempting atleast 6 questions before deadline"
   ]
  }
 ],
 "metadata": {
  "kernelspec": {
   "display_name": "Python 3",
   "language": "python",
   "name": "python3"
  },
  "language_info": {
   "codemirror_mode": {
    "name": "ipython",
    "version": 3
   },
   "file_extension": ".py",
   "mimetype": "text/x-python",
   "name": "python",
   "nbconvert_exporter": "python",
   "pygments_lexer": "ipython3",
   "version": "3.9.0"
  }
 },
 "nbformat": 4,
 "nbformat_minor": 4
}
